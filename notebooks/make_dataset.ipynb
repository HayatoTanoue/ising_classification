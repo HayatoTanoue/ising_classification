{
 "cells": [
  {
   "cell_type": "code",
   "execution_count": 1,
   "metadata": {},
   "outputs": [],
   "source": [
    "import os\n",
    "import numpy as np\n",
    "import torch\n",
    "import matplotlib.pyplot as plt\n",
    "from torch.utils.data import TensorDataset, DataLoader\n",
    "from PIL import Image\n",
    "from tqdm import tqdm"
   ]
  },
  {
   "cell_type": "markdown",
   "metadata": {},
   "source": [
    "# 2値分類 画像データ化\n",
    "\n",
    "全温度使用 class0: 0-49, class1: 50-99  \n",
    "最初の200サンプルのみ使用 (重い...)"
   ]
  },
  {
   "cell_type": "code",
   "execution_count": 2,
   "metadata": {},
   "outputs": [],
   "source": [
    "def save_image_binary(name):\n",
    "    \"\"\" numpy でロードして画像化 + 保存\"\"\"\n",
    "    # 保存先作成\n",
    "    os.makedirs(f\"../data/{name}/binary/0\", exist_ok=True)\n",
    "    os.makedirs(f\"../data/{name}/binary/1\", exist_ok=True)\n",
    "    # 元データ読み込み\n",
    "    f=open(f\"../data/{name}.bin\",\"rb\")\n",
    "    data=np.fromfile(f,dtype=\"int8\").reshape([100,1000,100,100])\n",
    "    \n",
    "    # 2値データ化 (labelの作成) + 画像化\n",
    "    x = []\n",
    "    y = []\n",
    "    for temp in range(100):\n",
    "        x += [data[temp][i] for i in range(200)]\n",
    "        if temp < 50:\n",
    "            y += [np.array([0.]) for _ in range(200)]\n",
    "        else:\n",
    "            y += [np.array([1.]) for _ in range(200)]\n",
    "\n",
    "    tensor_x = torch.Tensor(x) # transform to torch tensor\n",
    "    tensor_y = torch.Tensor(y)\n",
    "    \n",
    "    num = 0\n",
    "    for d, label in tqdm(zip(tensor_x, tensor_y)):\n",
    "        img = Image.fromarray(np.uint8(d * 255))\n",
    "        img.save(f\"../data/{name}/binary/{int(label.item())}/{num}.png\")\n",
    "        num += 1"
   ]
  },
  {
   "cell_type": "code",
   "execution_count": 3,
   "metadata": {},
   "outputs": [
    {
     "name": "stderr",
     "output_type": "stream",
     "text": [
      "20000it [00:10, 1941.35it/s]\n",
      "20000it [00:11, 1728.64it/s]\n",
      "20000it [00:12, 1649.03it/s]\n"
     ]
    }
   ],
   "source": [
    "save_image_binary(\"snapshot_2D\")\n",
    "save_image_binary(\"snapshot_3D\")\n",
    "save_image_binary(\"snapshot_inf\")"
   ]
  },
  {
   "cell_type": "markdown",
   "metadata": {},
   "source": [
    "# 転移温度周辺のみver\n",
    "\n",
    "## neighbor10 (周辺10温度使用)\n",
    "class0: 40-49, class1: 50-59  \n",
    "最初の500サンプルのみ使用 (重い...)\n",
    "\n",
    "## neighbor15 (周辺15温度使用)\n",
    "class0: 35-49, class1: 50-64  \n",
    "最初の500サンプルのみ使用 (重い...)"
   ]
  },
  {
   "cell_type": "code",
   "execution_count": 19,
   "metadata": {},
   "outputs": [],
   "source": [
    "def save_image_binary(name):\n",
    "    \"\"\" numpy でロードして画像化 + 保存\"\"\"\n",
    "    # 保存先作成\n",
    "    os.makedirs(f\"../data/{name}/neighbor15/0\", exist_ok=True)\n",
    "    os.makedirs(f\"../data/{name}/neighbor15/1\", exist_ok=True)\n",
    "    # 元データ読み込み\n",
    "    f=open(f\"../data/{name}.bin\",\"rb\")\n",
    "    data=np.fromfile(f,dtype=\"int8\").reshape([100,1000,100,100])\n",
    "    \n",
    "    # 2値データ化 (labelの作成) + 画像化\n",
    "    x = []\n",
    "    y = []\n",
    "    for temp in range(35, 65):\n",
    "        x += [data[temp][i] for i in range(500)]\n",
    "        if temp < 50:\n",
    "            y += [np.array([0.]) for _ in range(500)]\n",
    "        else:\n",
    "            y += [np.array([1.]) for _ in range(500)]\n",
    "\n",
    "    num = 0\n",
    "    for d, label in tqdm(zip(x, y)):\n",
    "        img = Image.fromarray(np.uint8(d * 255))\n",
    "        img.save(f\"../data/{name}/neighbor15/{int(label[0])}/{num}.png\")\n",
    "        num += 1"
   ]
  },
  {
   "cell_type": "code",
   "execution_count": 20,
   "metadata": {},
   "outputs": [
    {
     "name": "stderr",
     "output_type": "stream",
     "text": [
      "15000it [00:07, 1975.62it/s]\n",
      "15000it [00:10, 1497.29it/s]\n",
      "15000it [00:11, 1329.79it/s]\n"
     ]
    }
   ],
   "source": [
    "save_image_binary(\"snapshot_2D\")\n",
    "save_image_binary(\"snapshot_3D\")\n",
    "save_image_binary(\"snapshot_inf\")"
   ]
  },
  {
   "cell_type": "code",
   "execution_count": null,
   "metadata": {},
   "outputs": [],
   "source": []
  }
 ],
 "metadata": {
  "kernelspec": {
   "display_name": "Python 3",
   "language": "python",
   "name": "python3"
  },
  "language_info": {
   "codemirror_mode": {
    "name": "ipython",
    "version": 3
   },
   "file_extension": ".py",
   "mimetype": "text/x-python",
   "name": "python",
   "nbconvert_exporter": "python",
   "pygments_lexer": "ipython3",
   "version": "3.8.8"
  }
 },
 "nbformat": 4,
 "nbformat_minor": 4
}
